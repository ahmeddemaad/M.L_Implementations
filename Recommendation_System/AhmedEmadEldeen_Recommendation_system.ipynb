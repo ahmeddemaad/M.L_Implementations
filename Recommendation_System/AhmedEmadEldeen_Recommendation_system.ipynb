{
 "cells": [
  {
   "cell_type": "code",
   "execution_count": 126,
   "metadata": {},
   "outputs": [],
   "source": [
    "import pandas as pd\n",
    "from sklearn.metrics.pairwise import cosine_similarity\n",
    "from sklearn.preprocessing import StandardScaler\n",
    "\n",
    "\n",
    "# Load the data\n",
    "movies = pd.read_csv(\"movies.csv\")\n",
    "ratings = pd.read_csv(\"ratings.csv\")\n",
    "\n",
    "# Filter the data\n",
    "filtered_ratings = ratings[ratings[\"userId\"].isin(range(1, 201))]\n",
    "filtered_movies = movies[movies[\"movieId\"].isin(filtered_ratings[\"movieId\"].unique())].head(200)\n",
    "filtered_ratings = filtered_ratings[filtered_ratings[\"movieId\"].isin(filtered_movies[\"movieId\"])]\n",
    "\n",
    "# Create a user-movie matrix\n",
    "user_movie_matrix = filtered_ratings.pivot_table(index=\"userId\", columns=\"movieId\", values=\"rating\").fillna(0)\n",
    "\n",
    "# Standardize the user-movie matrix\n",
    "scaler = StandardScaler()\n",
    "user_movie_matrix_std = scaler.fit_transform(user_movie_matrix)\n",
    "\n",
    "\n",
    "# Calculate the similarity matrix\n",
    "similarity_matrix = cosine_similarity(user_movie_matrix.T)\n",
    "\n",
    "# Find the top 10 similar movies for the given movie IDs\n",
    "def get_similar_movies(movie_id, n=11):\n",
    "    movie_index = filtered_movies[filtered_movies[\"movieId\"] == movie_id].index[0]\n",
    "    movie_similarities = similarity_matrix[movie_index]\n",
    "    top_n_movie_indices = movie_similarities.argsort()[-n:][::-1]\n",
    "    return filtered_movies.iloc[top_n_movie_indices]"
   ]
  },
  {
   "cell_type": "code",
   "execution_count": 129,
   "metadata": {},
   "outputs": [
    {
     "name": "stdout",
     "output_type": "stream",
     "text": [
      "     movieId                                      title  \\\n",
      "0          1                           Toy Story (1995)   \n",
      "224      260  Star Wars: Episode IV - A New Hope (1977)   \n",
      "97       110                          Braveheart (1995)   \n",
      "123      150                           Apollo 13 (1995)   \n",
      "46        50                 Usual Suspects, The (1995)   \n",
      "92       104                       Happy Gilmore (1996)   \n",
      "138      165          Die Hard: With a Vengeance (1995)   \n",
      "43        47                Seven (a.k.a. Se7en) (1995)   \n",
      "32        34                                Babe (1995)   \n",
      "176      208                          Waterworld (1995)   \n",
      "126      153                      Batman Forever (1995)   \n",
      "\n",
      "                                          genres  \n",
      "0    Adventure|Animation|Children|Comedy|Fantasy  \n",
      "224                      Action|Adventure|Sci-Fi  \n",
      "97                              Action|Drama|War  \n",
      "123                         Adventure|Drama|IMAX  \n",
      "46                        Crime|Mystery|Thriller  \n",
      "92                                        Comedy  \n",
      "138                        Action|Crime|Thriller  \n",
      "43                              Mystery|Thriller  \n",
      "32                                Children|Drama  \n",
      "176                      Action|Adventure|Sci-Fi  \n",
      "126                Action|Adventure|Comedy|Crime  \n"
     ]
    }
   ],
   "source": [
    "print(get_similar_movies(1))"
   ]
  },
  {
   "cell_type": "code",
   "execution_count": 130,
   "metadata": {},
   "outputs": [
    {
     "name": "stdout",
     "output_type": "stream",
     "text": [
      "     movieId                                           title  \\\n",
      "3          4                        Waiting to Exhale (1995)   \n",
      "100      113                         Before and After (1996)   \n",
      "153      181  Mighty Morphin Power Rangers: The Movie (1995)   \n",
      "151      179                                 Mad Love (1995)   \n",
      "206      240                                 Hideaway (1995)   \n",
      "209      243                                    Gordy (1995)   \n",
      "187      219                                Cure, The (1995)   \n",
      "182      214           Before the Rain (Pred dozhdot) (1994)   \n",
      "180      212                              Bushwhacked (1995)   \n",
      "214      250             Heavyweights (Heavy Weights) (1995)   \n",
      "177      209                       White Man's Burden (1995)   \n",
      "\n",
      "                             genres  \n",
      "3              Comedy|Drama|Romance  \n",
      "100                   Drama|Mystery  \n",
      "153                 Action|Children  \n",
      "151                   Drama|Romance  \n",
      "206                        Thriller  \n",
      "209         Children|Comedy|Fantasy  \n",
      "187                           Drama  \n",
      "182                       Drama|War  \n",
      "180  Adventure|Comedy|Crime|Mystery  \n",
      "214                 Children|Comedy  \n",
      "177                           Drama  \n"
     ]
    }
   ],
   "source": [
    "print(get_similar_movies(4))"
   ]
  },
  {
   "cell_type": "code",
   "execution_count": 137,
   "metadata": {},
   "outputs": [],
   "source": [
    "def recommend_movies(user_id, user_movie_matrix, similarity_matrix, filtered_movies, n=3):\n",
    "    user_ratings = user_movie_matrix.loc[user_id]\n",
    "    #drop rated movies as i think we are getting the movies which he has probably watched\n",
    "    rated_movies = user_ratings[user_ratings != 0].index\n",
    "    updated_user_movie_matrix = user_movie_matrix.drop(rated_movies, axis=1)\n",
    "    updated_similarity_matrix = updated_user_movie_matrix.T.corr()\n",
    "    movie_scores = []\n",
    "    for movie in rated_movies:\n",
    "        try:\n",
    "            movie_index = user_movie_matrix.columns.get_loc(movie)\n",
    "            # the weighted scores are calculated by multiplying the similarity scores with the user's ratings for each movie.\n",
    "            weighted_scores = updated_similarity_matrix[movie_index] * user_ratings\n",
    "            # The score for the movie is then calculated by taking the weighted average of the user's ratings for the similar movies\n",
    "            score = sum(weighted_scores) / sum(abs(updated_similarity_matrix[movie_index]))\n",
    "            movie_scores.append((movie, score))\n",
    "        except KeyError:\n",
    "            \n",
    "            continue\n",
    "\n",
    "    movie_scores.sort(key=lambda x: x[1], reverse=True)\n",
    "    return [movie_score[0] for movie_score in movie_scores][:n]\n"
   ]
  },
  {
   "cell_type": "code",
   "execution_count": 138,
   "metadata": {},
   "outputs": [
    {
     "name": "stdout",
     "output_type": "stream",
     "text": [
      "Heat (1995)\n",
      "Seven (a.k.a. Se7en) (1995)\n",
      "Usual Suspects, The (1995)\n"
     ]
    }
   ],
   "source": [
    "recommended_movies = recommend_movies(user_id=1, user_movie_matrix=user_movie_matrix, similarity_matrix=similarity_matrix,filtered_movies=filtered_movies, n=3)\n",
    "\n",
    "for movie_id in recommended_movies:\n",
    "    movie_info = filtered_movies[filtered_movies[\"movieId\"] == movie_id]\n",
    "    movie_title = movie_info[\"title\"].values[0]\n",
    "    print(movie_title)"
   ]
  }
 ],
 "metadata": {
  "kernelspec": {
   "display_name": "Python 3",
   "language": "python",
   "name": "python3"
  },
  "language_info": {
   "codemirror_mode": {
    "name": "ipython",
    "version": 3
   },
   "file_extension": ".py",
   "mimetype": "text/x-python",
   "name": "python",
   "nbconvert_exporter": "python",
   "pygments_lexer": "ipython3",
   "version": "3.10.4"
  },
  "orig_nbformat": 4
 },
 "nbformat": 4,
 "nbformat_minor": 2
}
